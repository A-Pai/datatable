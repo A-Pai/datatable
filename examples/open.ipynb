{
 "cells": [
  {
   "cell_type": "code",
   "execution_count": 1,
   "metadata": {},
   "outputs": [],
   "source": [
    "#\n",
    "# This notebook uses files generated in save.ipynb (so run that first)\n",
    "#\n",
    "import datatable as dt\n",
    "import pandas as pd\n",
    "import seaborn as sns\n",
    "import os\n",
    "import shutil\n",
    "from time import time\n",
    "from datatable import f\n",
    "%matplotlib inline"
   ]
  },
  {
   "cell_type": "code",
   "execution_count": 2,
   "metadata": {},
   "outputs": [],
   "source": [
    "df_time = dt.Frame([[]] * 3, names=[\"library\", \"file\", \"time\"])\n",
    "\n",
    "def append_row(df, row):\n",
    "    df.rbind(dt.Frame([[j] for j in row]), bynames=False)"
   ]
  },
  {
   "cell_type": "code",
   "execution_count": 3,
   "metadata": {},
   "outputs": [],
   "source": [
    "def measure(task):\n",
    "    for lib in ['datatable', 'pandas']:\n",
    "        try:\n",
    "            inpfile = \"%s_%s\" % (task, lib)\n",
    "            t0 = time()\n",
    "            if lib == \"datatable\":\n",
    "                df = dt.open(inpfile)\n",
    "            else:\n",
    "                df = pd.read_feather(inpfile)\n",
    "            t1 = time()\n",
    "            append_row(df_time, [lib, task, t1 - t0])\n",
    "            print(\"[%-10s] %s = %f\" % (lib, task, t1 - t0))\n",
    "            del df\n",
    "        except Exception as e:\n",
    "            print(\"[%-10s] %s = Error: %s\" % (lib, task, e))\n",
    "            append_row(df_time, [lib, task, 0])"
   ]
  },
  {
   "cell_type": "code",
   "execution_count": 7,
   "metadata": {},
   "outputs": [
    {
     "name": "stdout",
     "output_type": "stream",
     "text": [
      "[datatable ] airlines = 0.004726\n",
      "[pandas    ] airlines = 4.651850\n",
      "[datatable ] higgs2M = 0.001244\n",
      "[pandas    ] higgs2M = 0.461291\n",
      "[datatable ] donors = 0.003081\n",
      "[pandas    ] donors = 0.862012\n",
      "[datatable ] allstate = 0.001713\n",
      "[pandas    ] allstate = 7.824131\n",
      "[datatable ] milsongs = 0.003903\n",
      "[pandas    ] milsongs = 0.850307\n"
     ]
    }
   ],
   "source": [
    "measure(\"airlines\")\n",
    "measure(\"higgs2M\")\n",
    "measure(\"donors\")\n",
    "measure(\"allstate\")\n",
    "measure(\"milsongs\")"
   ]
  },
  {
   "cell_type": "code",
   "execution_count": 5,
   "metadata": {},
   "outputs": [
    {
     "data": {
      "image/png": "[encoded data removed]",
      "text/plain": [
       "<Figure size 432x288 with 1 Axes>"
      ]
     },
     "metadata": {},
     "output_type": "display_data"
    }
   ],
   "source": [
    "ax = sns.barplot(x=\"file\", y=\"time\", hue=\"library\", palette=\"muted\", data=df_time.topandas())"
   ]
  },
  {
   "cell_type": "code",
   "execution_count": 6,
   "metadata": {},
   "outputs": [
    {
     "name": "stdout",
     "output_type": "stream",
     "text": [
      "\u001b[315m   \u001b[m  \u001b[315mfile    \u001b[m  \u001b[315m    pd/dt\u001b[m\u001b[K\n",
      "\u001b[38m---  --------  ---------\u001b[m\u001b[K\n",
      "\u001b[38m 0 \u001b[m  airlines  2584.47  \u001b[K\n",
      "\u001b[38m 1 \u001b[m  higgs2M    800.273 \u001b[K\n",
      "\u001b[38m 2 \u001b[m  donors     566     \u001b[K\n",
      "\u001b[38m 3 \u001b[m  allstate  8233.12  \u001b[K\n",
      "\u001b[38m 4 \u001b[m  milsongs    77.0043\u001b[K\n",
      "\u001b[K\n",
      "[5 rows x 2 columns]\u001b[K\n",
      "\u001b[K"
     ]
    },
    {
     "data": {
      "text/plain": []
     },
     "execution_count": 6,
     "metadata": {},
     "output_type": "execute_result"
    }
   ],
   "source": [
    "f0 = df_time[f.library==\"datatable\", {\"file\": f.file, \"dt\": f.time}]\n",
    "f1 = df_time[f.library==\"pandas\", {\"pd\": f.time}]\n",
    "f0.cbind(f1)\n",
    "f0[:, {\"file\": f.file, \"pd/dt\": f.pd / f.dt}]"
   ]
  }
 ],
 "metadata": {
  "kernelspec": {
   "display_name": "Python 3",
   "language": "python",
   "name": "python3"
  },
  "language_info": {
   "codemirror_mode": {
    "name": "ipython",
    "version": 3
   },
   "file_extension": ".py",
   "mimetype": "text/x-python",
   "name": "python",
   "nbconvert_exporter": "python",
   "pygments_lexer": "ipython3",
   "version": "3.6.0"
  }
 },
 "nbformat": 4,
 "nbformat_minor": 2
}
