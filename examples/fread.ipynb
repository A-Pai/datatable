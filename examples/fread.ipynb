{
 "cells": [
  {
   "cell_type": "code",
   "execution_count": 1,
   "metadata": {},
   "outputs": [],
   "source": [
    "import datatable as dt\n",
    "import pandas as pd\n",
    "import seaborn as sns\n",
    "import os\n",
    "from time import time\n",
    "from datatable import f\n",
    "%matplotlib inline"
   ]
  },
  {
   "cell_type": "code",
   "execution_count": 2,
   "metadata": {},
   "outputs": [],
   "source": [
    "def append_row(df, row):\n",
    "    df.rbind(dt.Frame([[j] for j in row]), bynames=False)"
   ]
  },
  {
   "cell_type": "code",
   "execution_count": 3,
   "metadata": {},
   "outputs": [],
   "source": [
    "df_time = dt.Frame([[]] * 4, names=[\"library\", \"file\", \"size\", \"time\"])"
   ]
  },
  {
   "cell_type": "code",
   "execution_count": 4,
   "metadata": {},
   "outputs": [],
   "source": [
    "def measure(task, file):\n",
    "    size = os.stat(os.path.expanduser(file)).st_size\n",
    "    _ = dt.fread(file)\n",
    "    for lib in ['datatable', 'pd-via-dt', 'pandas']:\n",
    "        try:\n",
    "            t0 = time()\n",
    "            if lib == \"datatable\":\n",
    "                df = dt.fread(file)\n",
    "            elif lib == \"pd-via-dt\":\n",
    "                df = dt.fread(file).topandas()\n",
    "            else:\n",
    "                df = pd.read_csv(file)\n",
    "            t1 = time()\n",
    "            append_row(df_time, [lib, task, size, t1 - t0])\n",
    "            print(\"[%9s] %s = %f\" % (lib, task, t1 - t0))\n",
    "        except Exception as e:\n",
    "            print(\"[%9s] %s = Error: %s\" % (lib, task, e))\n",
    "            append_row(df_time, [lib, task, size, 0])"
   ]
  },
  {
   "cell_type": "code",
   "execution_count": 5,
   "metadata": {},
   "outputs": [
    {
     "name": "stdout",
     "output_type": "stream",
     "text": [
      "[datatable] airlines = 5.278488\n",
      "[pd-via-dt] airlines = 15.209254\n",
      "[   pandas] airlines = Error: 'utf-8' codec can't decode byte 0xe4 in position 4: invalid continuation byte\n",
      "[datatable] higgs2M = 3.320412\n",
      "[pd-via-dt] higgs2M = 3.721059\n",
      "[   pandas] higgs2M = 17.724061\n",
      "[datatable] donors = 2.474557\n",
      "[pd-via-dt] donors = 3.718885\n",
      "[   pandas] donors = 14.892595\n",
      "[datatable] allstate = 20.158744\n",
      "[pd-via-dt] allstate = 48.743790\n"
     ]
    },
    {
     "name": "stderr",
     "output_type": "stream",
     "text": [
      "/Users/pasha/py36/lib/python3.6/site-packages/IPython/core/interactiveshell.py:2802: DtypeWarning: Columns (20) have mixed types. Specify dtype option on import or set low_memory=False.\n",
      "  if self.run_code(code, result):\n"
     ]
    },
    {
     "name": "stdout",
     "output_type": "stream",
     "text": [
      "[   pandas] allstate = 65.144870\n",
      "[datatable] milsongs = 3.180381\n",
      "[pd-via-dt] milsongs = 3.417540\n",
      "[   pandas] milsongs = 9.269497\n"
     ]
    }
   ],
   "source": [
    "measure(\"airlines\", \"~/datasets/airlines_all.05p.csv\")\n",
    "measure(\"higgs2M\", \"~/datasets/higgs_head_2M.csv\")\n",
    "measure(\"donors\", \"~/datasets/donors-choose/train_resources.csv\")\n",
    "measure(\"allstate\", \"~/datasets/allstate-bodilyclaims-kaggle/train_set_NA.csv\")\n",
    "measure(\"milsongs\", \"~/datasets/milsongs/milsongs-cls-train.csv.gz\")"
   ]
  },
  {
   "cell_type": "code",
   "execution_count": 6,
   "metadata": {},
   "outputs": [
    {
     "data": {
      "image/png": "[encoded data removed]",
      "text/plain": [
       "<Figure size 432x288 with 1 Axes>"
      ]
     },
     "metadata": {},
     "output_type": "display_data"
    }
   ],
   "source": [
    "ax = sns.barplot(x=\"file\", y=\"time\", hue=\"library\", palette=\"muted\", data=df_time.topandas())"
   ]
  },
  {
   "cell_type": "code",
   "execution_count": 23,
   "metadata": {},
   "outputs": [
    {
     "name": "stdout",
     "output_type": "stream",
     "text": [
      "\u001b[315m   \u001b[m  \u001b[315mfile    \u001b[m  \u001b[315m  pd/dt\u001b[m\u001b[K\n",
      "\u001b[38m---  --------  -------\u001b[m\u001b[K\n",
      "\u001b[38m 0 \u001b[m  airlines  0      \u001b[K\n",
      "\u001b[38m 1 \u001b[m  higgs2M   5.33791\u001b[K\n",
      "\u001b[38m 2 \u001b[m  donors    6.01829\u001b[K\n",
      "\u001b[38m 3 \u001b[m  allstate  3.23159\u001b[K\n",
      "\u001b[38m 4 \u001b[m  milsongs  2.91459\u001b[K\n",
      "\u001b[K\n",
      "[5 rows x 2 columns]\u001b[K\n",
      "\u001b[K"
     ]
    },
    {
     "data": {
      "text/plain": []
     },
     "execution_count": 23,
     "metadata": {},
     "output_type": "execute_result"
    }
   ],
   "source": [
    "f0 = df_time[f.library==\"datatable\", {\"file\": f.file, \"dt\": f.time}]\n",
    "f1 = df_time[f.library==\"pandas\", {\"pd\": f.time}]\n",
    "f0.cbind(f1)\n",
    "f0[:, {\"file\": f.file, \"pd/dt\": f.pd / f.dt}]"
   ]
  }
 ],
 "metadata": {
  "kernelspec": {
   "display_name": "Python 3",
   "language": "python",
   "name": "python3"
  },
  "language_info": {
   "codemirror_mode": {
    "name": "ipython",
    "version": 3
   },
   "file_extension": ".py",
   "mimetype": "text/x-python",
   "name": "python",
   "nbconvert_exporter": "python",
   "pygments_lexer": "ipython3",
   "version": "3.6.0"
  }
 },
 "nbformat": 4,
 "nbformat_minor": 2
}
