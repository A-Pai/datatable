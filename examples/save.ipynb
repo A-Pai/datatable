{
 "cells": [
  {
   "cell_type": "code",
   "execution_count": 1,
   "metadata": {},
   "outputs": [],
   "source": [
    "import datatable as dt\n",
    "import pandas as pd\n",
    "import seaborn as sns\n",
    "import os\n",
    "import shutil\n",
    "from time import time\n",
    "from datatable import f\n",
    "%matplotlib inline"
   ]
  },
  {
   "cell_type": "code",
   "execution_count": 2,
   "metadata": {},
   "outputs": [],
   "source": [
    "df_time = dt.Frame([[]] * 4, names=[\"library\", \"file\", \"size\", \"time\"])\n",
    "\n",
    "def append_row(df, row):\n",
    "    df.rbind(dt.Frame([[j] for j in row]), bynames=False)"
   ]
  },
  {
   "cell_type": "code",
   "execution_count": 3,
   "metadata": {},
   "outputs": [],
   "source": [
    "def measure(task, file):\n",
    "    df = dt.fread(file)\n",
    "    pf = df.topandas()\n",
    "    for lib in ['datatable', 'pandas']:\n",
    "        try:\n",
    "            outfile = \"%s_%s\" % (task, lib)\n",
    "            t0 = time()\n",
    "            if lib == \"datatable\":\n",
    "                df.save(outfile)\n",
    "            else:\n",
    "                pf.to_feather(outfile)\n",
    "            t1 = time()\n",
    "            size = os.stat(outfile).st_size\n",
    "            append_row(df_time, [lib, task, size, t1 - t0])\n",
    "            print(\"[%-10s] %s = %f\" % (lib, task, t1 - t0))\n",
    "            # if lib == \"datatable\":\n",
    "            #     shutil.rmtree(outfile)\n",
    "            # else:\n",
    "            #     os.unlink(outfile)\n",
    "        except Exception as e:\n",
    "            print(\"[%-10s] %s = Error: %s\" % (lib, task, e))\n",
    "            append_row(df_time, [lib, task, size, 0])"
   ]
  },
  {
   "cell_type": "code",
   "execution_count": 4,
   "metadata": {},
   "outputs": [
    {
     "name": "stdout",
     "output_type": "stream",
     "text": [
      "[datatable ] airlines = 2.110587\n",
      "[pandas    ] airlines = 5.700282\n",
      "[datatable ] higgs2M = 0.741756\n",
      "[pandas    ] higgs2M = 0.814456\n",
      "[datatable ] donors = 0.628700\n",
      "[pandas    ] donors = 1.725094\n",
      "[datatable ] allstate = 7.362164\n",
      "[pandas    ] allstate = 20.275278\n",
      "[datatable ] milsongs = 0.906421\n",
      "[pandas    ] milsongs = 0.877954\n"
     ]
    }
   ],
   "source": [
    "measure(\"airlines\", \"~/datasets/airlines_all.05p.csv\")\n",
    "measure(\"higgs2M\", \"~/datasets/higgs_head_2M.csv\")\n",
    "measure(\"donors\", \"~/datasets/donors-choose/train_resources.csv\")\n",
    "measure(\"allstate\", \"~/datasets/allstate-bodilyclaims-kaggle/train_set_NA.csv\")\n",
    "measure(\"milsongs\", \"~/datasets/milsongs/milsongs-cls-train.csv.gz\")"
   ]
  },
  {
   "cell_type": "code",
   "execution_count": 5,
   "metadata": {},
   "outputs": [
    {
     "data": {
      "image/png": "[encoded data removed]",
      "text/plain": [
       "<Figure size 432x288 with 1 Axes>"
      ]
     },
     "metadata": {},
     "output_type": "display_data"
    }
   ],
   "source": [
    "ax = sns.barplot(x=\"file\", y=\"time\", hue=\"library\", palette=\"muted\", data=df_time.topandas())"
   ]
  },
  {
   "cell_type": "code",
   "execution_count": 6,
   "metadata": {},
   "outputs": [
    {
     "name": "stdout",
     "output_type": "stream",
     "text": [
      "\u001b[315m   \u001b[m  \u001b[315mfile    \u001b[m  \u001b[315m   pd/dt\u001b[m\u001b[K\n",
      "\u001b[38m---  --------  --------\u001b[m\u001b[K\n",
      "\u001b[38m 0 \u001b[m  airlines  2.7008  \u001b[K\n",
      "\u001b[38m 1 \u001b[m  higgs2M   1.09801 \u001b[K\n",
      "\u001b[38m 2 \u001b[m  donors    2.74391 \u001b[K\n",
      "\u001b[38m 3 \u001b[m  allstate  2.75398 \u001b[K\n",
      "\u001b[38m 4 \u001b[m  milsongs  0.968594\u001b[K\n",
      "\u001b[K\n",
      "[5 rows x 2 columns]\u001b[K\n",
      "\u001b[K"
     ]
    },
    {
     "data": {
      "text/plain": []
     },
     "execution_count": 6,
     "metadata": {},
     "output_type": "execute_result"
    }
   ],
   "source": [
    "f0 = df_time[f.library==\"datatable\", {\"file\": f.file, \"dt\": f.time}]\n",
    "f1 = df_time[f.library==\"pandas\", {\"pd\": f.time}]\n",
    "f0.cbind(f1)\n",
    "f0[:, {\"file\": f.file, \"pd/dt\": f.pd / f.dt}]"
   ]
  }
 ],
 "metadata": {
  "kernelspec": {
   "display_name": "Python 3",
   "language": "python",
   "name": "python3"
  },
  "language_info": {
   "codemirror_mode": {
    "name": "ipython",
    "version": 3
   },
   "file_extension": ".py",
   "mimetype": "text/x-python",
   "name": "python",
   "nbconvert_exporter": "python",
   "pygments_lexer": "ipython3",
   "version": "3.6.0"
  }
 },
 "nbformat": 4,
 "nbformat_minor": 2
}
